{
 "cells": [
  {
   "cell_type": "markdown",
   "metadata": {},
   "source": [
    "# Combining Zotero and Endnote libraries in Word documents\n",
    "\n",
    "## Step 1: Export Zotero library\n",
    "\n",
    "### Option 1: If you have the Zotero library\n",
    "\n",
    "1. Open Zotero.\n",
    "2. Click the File menu and select Export Library.\n",
    "3. Select RIS format from the drop-down menu.\n",
    "4. Click OK.\n",
    "5. Save the file to your computer in a location you can find.\n",
    "6. Close Zotero.\n",
    "\n",
    "### Option 2: If you do not have the Zotero library\n",
    "\n",
    "1. Upload your Word document to https://rintze.zelle.me/ref-extractor/.\n",
    "2. Select RIS format from the drop-down menu.\n",
    "3. Click Download.\n",
    "4. Save the file to your computer in a location you can find.\n",
    "\n",
    "## Step 2: Import the Zotero library into Endnote\n",
    "\n",
    "1. Open your EndNote library (or create a new one ).\n",
    "2. Click the File menu and select Import File.\n",
    "3. Click Choose.\n",
    "4. Browse to and Select the file you saved from Zotero to Open.\n",
    "5. From the \"Import Options\" dropdown, select Reference Manager (RIS).\n",
    "6. Click Import.\n",
    "\n",
    "## Step 3: Document conversion\n",
    "\n",
    "1. In order to convert a document created using Zotero tools, it needs to be formatted in a custom style. You will find a copy of the custom style in this repository. Download the \"Zotero-to-Endnote-Title.csl\" file. \n",
    "2. Open Zotero and click Edit > Preferences. \n",
    "3. Click Cite tab and click the + button to add the custom style. \n",
    "4. Open Word, click the Zotero tab, and select Document Preferences. \n",
    "5. Select Zotero-to-Endnote-Title and click OK. Now references will display only the title in the open and close curly braces:{Title}.\n",
    "6. Click the Endnote tab and click Tools > Convert to Unformatted Citations.\n",
    "7. Windows: Press [Ctrl]+A (or [Command]+A on Mac) on the keyboard to highlight everything. \n",
    "8. Windows: Press [Ctrl]+6 (or [Command]+6 on Mac) to remove any field codes.\n",
    "9. Remove any Bibliographies present in the document.\n",
    "10. Click the Endnote tab and click Update Citations and Bibliography.\n",
    "11. Endnote will scan the document for the unformatted Zotero and Endnote citations and try to match them with references in the Endnote library. For all or most references, it will pop up a dialogue suggesting the closest reference match. Continue for until all references are complete."
   ]
  },
  {
   "cell_type": "markdown",
   "metadata": {},
   "source": []
  }
 ],
 "metadata": {
  "kernelspec": {
   "display_name": "Python 3",
   "language": "python",
   "name": "python3"
  },
  "language_info": {
   "codemirror_mode": {
    "name": "ipython",
    "version": 3
   },
   "file_extension": ".py",
   "mimetype": "text/x-python",
   "name": "python",
   "nbconvert_exporter": "python",
   "pygments_lexer": "ipython3",
   "version": "3.7.6"
  }
 },
 "nbformat": 4,
 "nbformat_minor": 4
}
